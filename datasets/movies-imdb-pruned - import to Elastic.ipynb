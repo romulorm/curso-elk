{
 "cells": [
  {
   "cell_type": "code",
   "execution_count": null,
   "id": "e6d94138",
   "metadata": {},
   "outputs": [],
   "source": [
    "import pandas as pd\n",
    "from pandas.io.json import json_normalize\n",
    "import eland as ed \n",
    "from elasticsearch import Elasticsearch\n",
    "import json"
   ]
  },
  {
   "cell_type": "code",
   "execution_count": null,
   "id": "b49d27a7",
   "metadata": {},
   "outputs": [],
   "source": [
    "df = pd.read_json('Downloads/movies-imdb-pruned.json')\n",
    "df"
   ]
  },
  {
   "cell_type": "code",
   "execution_count": null,
   "id": "95a3452a",
   "metadata": {},
   "outputs": [],
   "source": [
    "es = Elasticsearch(\n",
    "    \"https://localhost:9200\",\n",
    "    verify_certs= False,\n",
    "    basic_auth=(\"elastic\", \"123456\"),\n",
    "    http_compress=True\n",
    ")"
   ]
  },
  {
   "cell_type": "code",
   "execution_count": null,
   "id": "2a6d5767",
   "metadata": {},
   "outputs": [],
   "source": [
    "df = ed.pandas_to_eland(\n",
    "        pd_df=df,\n",
    "        es_client=es,\n",
    "        es_dest_index=\"movies\",\n",
    "        es_if_exists=\"append\",\n",
    "        es_refresh=True,\n",
    "        use_pandas_index_for_es_ids=False\n",
    ")"
   ]
  }
 ],
 "metadata": {
  "kernelspec": {
   "display_name": "Python 3 (ipykernel)",
   "language": "python",
   "name": "python3"
  },
  "language_info": {
   "codemirror_mode": {
    "name": "ipython",
    "version": 3
   },
   "file_extension": ".py",
   "mimetype": "text/x-python",
   "name": "python",
   "nbconvert_exporter": "python",
   "pygments_lexer": "ipython3",
   "version": "3.9.13"
  }
 },
 "nbformat": 4,
 "nbformat_minor": 5
}
